{
  "metadata": {
    "kernelspec": {
      "display_name": "Python (Pyodide)",
      "language": "python",
      "name": "python"
    },
    "language_info": {
      "codemirror_mode": {
        "name": "python",
        "version": 3
      },
      "file_extension": ".py",
      "mimetype": "text/x-python",
      "name": "python",
      "nbconvert_exporter": "python",
      "pygments_lexer": "ipython3",
      "version": "3.8"
    }
  },
  "nbformat_minor": 5,
  "nbformat": 4,
  "cells": [
    {
      "id": "ee099d14-096c-4878-b18a-8b7d2700d623",
      "cell_type": "code",
      "source": "# Assignment 1",
      "metadata": {
        "trusted": true
      },
      "outputs": [],
      "execution_count": 1
    },
    {
      "id": "98c075c8-43ee-494e-80ea-f12ab6289791",
      "cell_type": "code",
      "source": "# Prakul Bajaj\n# 102303863",
      "metadata": {
        "trusted": true
      },
      "outputs": [],
      "execution_count": 3
    },
    {
      "id": "f9c1664b-ebea-4f2c-a561-a241f1568a3f",
      "cell_type": "code",
      "source": "# a)\nimport numpy as np\narr = np.array([1, 2, 3, 6, 4, 5])\nprint(np.flip(arr))",
      "metadata": {
        "trusted": true
      },
      "outputs": [
        {
          "name": "stdout",
          "output_type": "stream",
          "text": "[5 4 6 3 2 1]\n"
        }
      ],
      "execution_count": 2
    },
    {
      "id": "7bfc1a0b-8ffd-4d3e-be69-e45c08a2ff62",
      "cell_type": "code",
      "source": "# b)\narray1 = np.array([[1, 2, 3], [2, 4, 5], [1, 2, 3]])\n# Using Flatten\nprint(array1.flatten())\n# Using Reshape\nprint(array1.reshape(-1))",
      "metadata": {
        "trusted": true
      },
      "outputs": [
        {
          "name": "stdout",
          "output_type": "stream",
          "text": "[1 2 3 2 4 5 1 2 3]\n,[1 2 3 2 4 5 1 2 3]\n"
        }
      ],
      "execution_count": 17
    },
    {
      "id": "353a8df8-598c-486b-be50-e5fa18294e9b",
      "cell_type": "code",
      "source": "# c)\narr1 = np.array([[1, 2], [3, 4]])\narr2 = np.array([[1, 2], [3, 4]])\nnp.array_equal(arr1,arr2)",
      "metadata": {
        "trusted": true
      },
      "outputs": [
        {
          "data": {
            "text/plain": [
              "True"
            ]
          },
          "execution_count": 19,
          "metadata": {},
          "output_type": "execute_result"
        }
      ],
      "execution_count": 19
    },
    {
      "id": "c0a53b3a-db4d-4022-8886-9bb625174035",
      "cell_type": "code",
      "source": "# d)\nx = np.array([1,2,3,4,5,1,2,1,1,1])\ny = np.array([1, 1, 1, 2, 3, 4, 2, 4, 3, 3])\n# For x\nval_x = np.bincount(x).argmax()\nprint(val_x)\nindices_x = []\nfor i in range(len(x)):\n    if(x[i]==val_x):\n        indices_x.append(i)\nprint(indices_x)\n\n# For y\nval_y = np.bincount(y).argmax()\nprint(val_y)\nindices_y = []\nfor i in range(len(y)):\n    if(y[i]==val_y):\n        indices_y.append(i)\nprint(indices_y)",
      "metadata": {
        "trusted": true
      },
      "outputs": [
        {
          "name": "stdout",
          "output_type": "stream",
          "text": "1\n,[0, 5, 7, 8, 9]\n,1\n,[0, 1, 2]\n"
        }
      ],
      "execution_count": 25
    },
    {
      "id": "b732a7e3-f94a-422c-8c32-b771d5282519",
      "cell_type": "code",
      "source": "gfg = np.matrix('[4, 1, 9; 12, 3, 1; 4, 5, 6]')\n# Sum of all elements\nprint(np.sum(gfg))\n# Along the Row\nprint(np.sum(gfg,axis=1))\n# Along the Column\nprint(np.sum(gfg,axis=0))",
      "metadata": {
        "trusted": true
      },
      "outputs": [
        {
          "name": "stdout",
          "output_type": "stream",
          "text": "45\n,[[14]\n, [16]\n, [15]]\n,[[20  9 16]]\n"
        }
      ],
      "execution_count": 32
    },
    {
      "id": "624d17fd-7c95-4d10-b60f-58420c5406a3",
      "cell_type": "code",
      "source": "n_array = np.array([[55, 25, 15],[30, 44, 2],[11, 45, 77]])\n# Sum of diagonal elements\nprint(np.trace(n_array))\n# Eigen values\nprint(np.linalg.eigvals(n_array))\n# Eigen Vector\nprint(np.linalg.eig(n_array))\n# Inverse Vectors\nprint(np.linalg.inv(n_array))\n# Determinant\nprint(np.linalg.det(n_array))",
      "metadata": {
        "trusted": true
      },
      "outputs": [
        {
          "name": "stdout",
          "output_type": "stream",
          "text": "176\n,[28.097044   49.73460452 98.16835147]\n,EigResult(eigenvalues=array([28.097044  , 49.73460452, 98.16835147]), eigenvectors=array([[-0.34637121,  0.15017693,  0.4574917 ],\n,       [ 0.72784061,  0.4852124 ,  0.28447814],\n,       [-0.59184038, -0.8614034 ,  0.84248058]]))\n,[[ 0.02404141 -0.00911212 -0.00444671]\n, [-0.01667882  0.02966905  0.0024785 ]\n, [ 0.00631287 -0.01603732  0.01217379]]\n,137180.0000000001\n"
        }
      ],
      "execution_count": 36
    },
    {
      "id": "a30ca9e0-41d5-4c92-8f66-c0fb23c640c2",
      "cell_type": "code",
      "source": "p = np.array([[1, 2], [2, 3]])\nq = np.array([[4, 5], [6, 7]])\nprint(np.matmul(p,q))\np = np.array([[1, 2], [2, 3], [4, 5]])\nq = np.array([[4, 5, 1], [6, 7, 2]])\nprint(np.matmul(p,q))",
      "metadata": {
        "trusted": true
      },
      "outputs": [
        {
          "name": "stdout",
          "output_type": "stream",
          "text": "[[16 19]\n, [26 31]]\n,[[16 19  5]\n, [26 31  8]\n, [46 55 14]]\n"
        }
      ],
      "execution_count": 37
    },
    {
      "id": "068a84ec-f95d-4eee-81d0-a1cbf0fde5f5",
      "cell_type": "code",
      "source": "x = np.array([[2, 3, 4], [3, 2, 9]])\ny = np.array([[1, 5, 0], [5, 10, 3]])\n# Inner product\nprint(np.inner(x,y))\n# Outer product\nprint(np.outer(x,y))\n# Cartesian product\nprint(np.cross(x,y))",
      "metadata": {
        "trusted": true
      },
      "outputs": [
        {
          "name": "stdout",
          "output_type": "stream",
          "text": "[[17 52]\n, [13 62]]\n,[[ 2 10  0 10 20  6]\n, [ 3 15  0 15 30  9]\n, [ 4 20  0 20 40 12]\n, [ 3 15  0 15 30  9]\n, [ 2 10  0 10 20  6]\n, [ 9 45  0 45 90 27]]\n,[[-20   4   7]\n, [-84  36  20]]\n"
        }
      ],
      "execution_count": 39
    },
    {
      "id": "05450585-5230-46b8-9958-a85837c43a7d",
      "cell_type": "code",
      "source": "array = np.array([[1, -2, 3],[-4, 5, -6]])\nflattened = array.flatten()\nprint(np.percentile(array,[25,50,75]))\n# Percentile for each row\nprint(np.percentile(array,[25,50,75], axis=1))\n# Percentile for each column\nprint(np.percentile(array,[25,50,75],axis = 0))",
      "metadata": {
        "trusted": true
      },
      "outputs": [
        {
          "name": "stdout",
          "output_type": "stream",
          "text": "[-3.5 -0.5  2.5]\n,[[-0.5 -5. ]\n, [ 1.  -4. ]\n, [ 2.   0.5]]\n,[[-2.75 -0.25 -3.75]\n, [-1.5   1.5  -1.5 ]\n, [-0.25  3.25  0.75]]\n"
        }
      ],
      "execution_count": 48
    },
    {
      "id": "b17cbaec-3934-4729-8173-60bc582b0450",
      "cell_type": "code",
      "source": "print(np.mean(flattened))\nprint(np.median(flattened))\nprint(np.std(flattened))\n\nprint(np.mean(array,axis=0))\nprint(np.mean(array,axis=1))\nprint(np.median(array,axis=0))\nprint(np.median(array,axis=1))\nprint(np.std(array,axis=0))\nprint(np.std(array,axis=1))",
      "metadata": {
        "trusted": true
      },
      "outputs": [
        {
          "name": "stdout",
          "output_type": "stream",
          "text": "-0.5\n,-0.5\n,3.8622100754188224\n,[-1.5  1.5 -1.5]\n,[ 0.66666667 -1.66666667]\n,[-1.5  1.5 -1.5]\n,[ 1. -4.]\n,[2.5 3.5 4.5]\n,[2.05480467 4.78423336]\n"
        }
      ],
      "execution_count": 54
    },
    {
      "id": "dcae515d-0824-41c5-ab21-cfcb102eba3e",
      "cell_type": "code",
      "source": "a = np.array([-1.8, -1.6, -0.5, 0.5,1.6, 1.8, 3.0])\nprint(np.floor(a))\nprint(np.ceil(a))\nprint(np.trunc(a))\nprint(np.round(a))",
      "metadata": {
        "trusted": true
      },
      "outputs": [
        {
          "name": "stdout",
          "output_type": "stream",
          "text": "[-2. -2. -1.  0.  1.  1.  3.]\n,[-1. -1. -0.  1.  2.  2.  3.]\n,[-1. -1. -0.  0.  1.  1.  3.]\n,[-2. -2. -0.  0.  2.  2.  3.]\n"
        }
      ],
      "execution_count": 57
    },
    {
      "id": "39341b54-9109-41dc-8f69-71aa550d8dcf",
      "cell_type": "code",
      "source": "array = np.array([10, 52, 62, 16, 16, 54, 453])\nprint(np.sort(array))\nprint(np.argsort(array))\nprint(np.sort(array)[:4])\nprint(np.sort(array)[-5:])",
      "metadata": {
        "trusted": true
      },
      "outputs": [
        {
          "name": "stdout",
          "output_type": "stream",
          "text": "[ 10  16  16  52  54  62 453]\n,[0 3 4 1 5 2 6]\n,[10 16 16 52]\n,[ 16  52  54  62 453]\n"
        }
      ],
      "execution_count": 62
    },
    {
      "id": "f5f5de20-00bc-409e-b714-19bb84c5c690",
      "cell_type": "code",
      "source": "array = np.array([1.0, 1.2, 2.2, 2.0, 3.0, 2.0])\nprint(array[array % 1 == 0])\nprint(array[array % 1 != 0])",
      "metadata": {
        "trusted": true
      },
      "outputs": [
        {
          "name": "stdout",
          "output_type": "stream",
          "text": "[1. 2. 3. 2.]\n,[1.2 2.2]\n"
        }
      ],
      "execution_count": 64
    },
    {
      "id": "907d7c94-899d-478e-bfb1-30febf4fc577",
      "cell_type": "code",
      "source": "from PIL import Image\nimport os\npath = \"python_image.png\"\nimg = Image.open(path)\nimg_array = np.array(img)\nfilename = os.path.splitext(os.path.basename(path))[0]\n\nif len(img_array.shape) == 2:\n    print(\"Image is Grayscale\")\n    np.savetxt(f\"{filename}_grayscale.txt\", img_array, fmt='%d')\n\nelif len(img_array.shape) == 3 and img_array.shape[2] == 3:\n    print(\"Image is RGB\")\n    reshaped = img_array.reshape(-1, 3)\n    np.savetxt(f\"{filename}_rgb.txt\", reshaped, fmt='%d')\n\nelif len(img_array.shape) == 3 and img_array.shape[2] == 4:\n    print(\"Image is RGBA (with transparency)\")\n    reshaped = img_array.reshape(-1, 4)\n    np.savetxt(f\"{filename}_rgba.txt\", reshaped, fmt='%d')\n\nelse:\n    print(\"Unsupported image format\")",
      "metadata": {
        "trusted": true,
        "scrolled": true
      },
      "outputs": [
        {
          "name": "stdout",
          "output_type": "stream",
          "text": "Image is RGBA (with transparency)\n"
        }
      ],
      "execution_count": null
    },
    {
      "id": "6fc8a415-3aee-467d-a8f2-ec9620ae46fb",
      "cell_type": "code",
      "source": "",
      "metadata": {
        "trusted": true
      },
      "outputs": [],
      "execution_count": null
    }
  ]
}